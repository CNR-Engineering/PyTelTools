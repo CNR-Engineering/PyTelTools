{
 "cells": [
  {
   "cell_type": "markdown",
   "metadata": {},
   "source": [
    "# Extract at points from Serafin 2D"
   ]
  },
  {
   "cell_type": "code",
   "execution_count": 6,
   "metadata": {},
   "outputs": [
    {
     "name": "stderr",
     "output_type": "stream",
     "text": [
      "Reading the input file: \"../scripts_PyTelTools_validation/data/Yen/fis_yen-exp.slf\" of size 2078184 bytes\n",
      "WARNING: The 2D variable name \"C 1ST CLASS\" is not known (lang=en). The complete name will be used as ID\n",
      "WARNING: The 2D variable name \"PRIVE 1\" is not known (lang=en). The complete name will be used as ID\n",
      "WARNING: The 2D variable name \"PRIVE 2\" is not known (lang=en). The complete name will be used as ID\n"
     ]
    },
    {
     "name": "stdout",
     "output_type": "stream",
     "text": [
      "2 points are inside the mesh\n",
      "[10.052406803669136, 10.050774145984624]\n"
     ]
    }
   ],
   "source": [
    "from pyteltools.geom import Shapefile\n",
    "from pyteltools.slf.interpolation import MeshInterpolator\n",
    "from pyteltools.slf import Serafin\n",
    "\n",
    "\n",
    "points = [(97.0, 32.5), (97.5, 33.5)]\n",
    "\n",
    "with Serafin.Read('../scripts_PyTelTools_validation/data/Yen/fis_yen-exp.slf', 'en') as resin:\n",
    "    resin.read_header()\n",
    "    resin.get_time()\n",
    "\n",
    "    # Determine mesh interpolation\n",
    "    mesh = MeshInterpolator(resin.header, True)\n",
    "    is_inside, point_interpolators = mesh.get_point_interpolators(points)\n",
    "    nb_inside = sum(map(int, is_inside))\n",
    "    print(\"%i points are inside the mesh\" % nb_inside)\n",
    "\n",
    "    # Interpolate one variable (BOTTOM) and one frame only (the last)\n",
    "    values = resin.read_var_in_frame(0, 'S')\n",
    "\n",
    "    results = []\n",
    "    for pt_id, (point, point_interpolator) in enumerate(zip(points, point_interpolators)):\n",
    "        if point_interpolator is not None:\n",
    "            (i, j, k), interpolator = point_interpolator\n",
    "            results.append(interpolator.dot(values[[i, j, k]]))\n",
    "    print(results)\n"
   ]
  }
 ],
 "metadata": {
  "kernelspec": {
   "display_name": "Python 3",
   "language": "python",
   "name": "python3"
  },
  "language_info": {
   "codemirror_mode": {
    "name": "ipython",
    "version": 3
   },
   "file_extension": ".py",
   "mimetype": "text/x-python",
   "name": "python",
   "nbconvert_exporter": "python",
   "pygments_lexer": "ipython3",
   "version": "3.7.3"
  }
 },
 "nbformat": 4,
 "nbformat_minor": 2
}
