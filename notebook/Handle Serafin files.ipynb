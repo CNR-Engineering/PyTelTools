{
 "cells": [
  {
   "cell_type": "markdown",
   "metadata": {},
   "source": [
    "Main classes to deal with:\n",
    "- `SerafinHeader`\n",
    "- `Read` (derived from `Serafin`)\n",
    "- `Write` (derived from `Serafin`)"
   ]
  },
  {
   "cell_type": "markdown",
   "metadata": {},
   "source": [
    "# Read Telemac file"
   ]
  },
  {
   "cell_type": "markdown",
   "metadata": {},
   "source": [
    "Read a binary Selafin file.\n",
    "Automatic dectection of **precision** (single or double) and **endianness** (big or little endian)."
   ]
  },
  {
   "cell_type": "code",
   "execution_count": 5,
   "metadata": {},
   "outputs": [
    {
     "name": "stderr",
     "output_type": "stream",
     "text": [
      "Reading the input file: \"../scripts_PyTelTools_validation/data/Yen/fis_yen-exp.slf\" of size 2078184 bytes\n",
      "WARNING: The 2D variable name \"C 1ST CLASS\" is not known (lang=en). The complete name will be used as ID\n",
      "WARNING: The 2D variable name \"PRIVE 1\" is not known (lang=en). The complete name will be used as ID\n",
      "WARNING: The 2D variable name \"PRIVE 2\" is not known (lang=en). The complete name will be used as ID\n"
     ]
    },
    {
     "name": "stdout",
     "output_type": "stream",
     "text": [
      "The file is of type SERAPHIN 2D. It has 14 variables,\n",
      "on 1894 nodes and 3093 elements for 19 time frames.\n",
      "[0.0, 1000.0, 2000.0, 3000.0, 4000.0, 5000.0, 6000.0, 7000.0, 8000.0, 9000.0, 10000.0, 11000.0, 12000.0, 13000.0, 14000.0, 15000.0, 16000.0, 17000.0, 18000.0]\n"
     ]
    }
   ],
   "source": [
    "from pyteltools.slf import Serafin\n",
    "\n",
    "with Serafin.Read('../scripts_PyTelTools_validation/data/Yen/fis_yen-exp.slf', 'en') as resin:\n",
    "    # Read header (SerafinHeader is stored in `header` attribute of `Serafin` class)\n",
    "    resin.read_header()\n",
    "    \n",
    "    # Display a summary\n",
    "    print(resin.header.summary())\n",
    "    \n",
    "    # Get time (in seconds) and display it\n",
    "    resin.get_time()\n",
    "    print(resin.time)"
   ]
  },
  {
   "cell_type": "markdown",
   "metadata": {},
   "source": [
    "# Write Telemac file"
   ]
  },
  {
   "cell_type": "code",
   "execution_count": 2,
   "metadata": {},
   "outputs": [
    {
     "name": "stderr",
     "output_type": "stream",
     "text": [
      "Reading the input file: \"../scripts_PyTelTools_validation/data/Yen/fis_yen-exp.slf\" of size 2078184 bytes\n",
      "WARNING: The 2D variable name \"C 1ST CLASS\" is not known (lang=en). The complete name will be used as ID\n",
      "WARNING: The 2D variable name \"PRIVE 1\" is not known (lang=en). The complete name will be used as ID\n",
      "WARNING: The 2D variable name \"PRIVE 2\" is not known (lang=en). The complete name will be used as ID\n",
      "Writing the output file: \"/tmp/test.slf\"\n"
     ]
    }
   ],
   "source": [
    "import numpy as np\n",
    "\n",
    "from pyteltools.slf import Serafin\n",
    "\n",
    "\n",
    "with Serafin.Read('../scripts_PyTelTools_validation/data/Yen/fis_yen-exp.slf', 'en') as resin:\n",
    "    resin.read_header()\n",
    "    # Copy header\n",
    "    output_header = resin.header.copy()\n",
    "    \n",
    "    # Change some header attributes if required\n",
    "    #output_header.toggle_endianness()\n",
    "    #output_header.to_single_precision()\n",
    "\n",
    "    values = np.empty((output_header.nb_var, output_header.nb_nodes), dtype=output_header.np_float_type)\n",
    "    with Serafin.Write('/tmp/test.slf', 'fr', overwrite=True) as resout:\n",
    "        resout.write_header(output_header)\n",
    "\n",
    "        # Copy all frames\n",
    "        for time_index, time in enumerate(resin.time):\n",
    "            for i, var_ID in enumerate(output_header.var_IDs):\n",
    "                values[i, :] = resin.read_var_in_frame(time_index, var_ID)\n",
    "            resout.write_entire_frame(output_header, time, values)"
   ]
  },
  {
   "cell_type": "markdown",
   "metadata": {},
   "source": [
    "# Handle exceptions"
   ]
  },
  {
   "cell_type": "markdown",
   "metadata": {},
   "source": [
    "Some custom exceptions are defined in `pyteltools.slf.Serafin`:\n",
    "* `SerafinRequestError`: Serafin file content checking\n",
    "* `SerafinValidationError`: requesting invalid values from Serafin object"
   ]
  }
 ],
 "metadata": {
  "kernelspec": {
   "display_name": "Python 3",
   "language": "python",
   "name": "python3"
  },
  "language_info": {
   "codemirror_mode": {
    "name": "ipython",
    "version": 3
   },
   "file_extension": ".py",
   "mimetype": "text/x-python",
   "name": "python",
   "nbconvert_exporter": "python",
   "pygments_lexer": "ipython3",
   "version": "3.7.3"
  }
 },
 "nbformat": 4,
 "nbformat_minor": 2
}
